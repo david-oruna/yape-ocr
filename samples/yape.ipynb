{
 "cells": [
  {
   "cell_type": "code",
   "execution_count": 21,
   "id": "bdcd44a1-dc27-4a90-b5b9-205e8f500824",
   "metadata": {},
   "outputs": [],
   "source": [
    "from PIL import Image\n",
    "import pytesseract\n",
    "import re\n",
    "import cv2\n",
    "pytesseract.tesseract_cmd = r\"C:\\Program Files\\Tesseract-OCR\\tesseract.exe\"\n"
   ]
  },
  {
   "cell_type": "code",
   "execution_count": 30,
   "id": "77dc6a10",
   "metadata": {},
   "outputs": [],
   "source": [
    "img = Image.open(r'C:\\Users\\DHO_d\\Documents\\GitHub\\yape-ocr\\test_imgs\\yape.jpg')\n",
    "text = pytesseract.image_to_string(img, lang='spa')"
   ]
  },
  {
   "cell_type": "code",
   "execution_count": 52,
   "id": "f15960f8",
   "metadata": {},
   "outputs": [],
   "source": [
    "def extract_info(path):\n",
    "    img = Image.open(path)\n",
    "    text = pytesseract.image_to_string(img, lang='spa')\n",
    "    # Regular expression to extract the amount (look for ¡Yapeaste! or !Te yapearon!)\n",
    "    amount_match = re.search(r'(¡Yapeaste!|!Te yapearon!)\\n\\n(\\d+)\\n\\n[A-Z][a-z]+', text)\n",
    "    if amount_match:\n",
    "        amount = amount_match.group(2)\n",
    "    else:\n",
    "        amount = ''\n",
    "    # Regular expression to extract the name (the text immediately following the amount)\n",
    "    name = re.search(r'(?<=\\n)([A-Z][a-z]+ [A-Z][a-z]+(?: [A-Z][a-z]+)?)', text)\n",
    "    name = name.group(1) if name else ''\n",
    "    # Regular expression to extract the date and convert it to dd/mm/YYYY format\n",
    "    date_match = re.search(r'(\\d{2}) (\\w{3})\\.? (\\d{4})', text)\n",
    "    if date_match:\n",
    "        # Map Spanish month abbreviations to numbers\n",
    "        month_map = {\n",
    "            'ene': '01', 'feb': '02', 'mar': '03', 'abr': '04',\n",
    "            'may': '05', 'jun': '06', 'jul': '07', 'ago': '08',\n",
    "            'sep': '09', 'oct': '10', 'nov': '11', 'dic': '12'\n",
    "        }\n",
    "        day, month_abbr, year = date_match.groups()\n",
    "        month = month_map.get(month_abbr.lower(), '00')\n",
    "        date = f\"{day}/{month}/{year}\"\n",
    "\n",
    "    # Regular expression to extract time in 24-hour format\n",
    "    time_match = re.search(r'(\\d{2}):(\\d{2})\\s*([ap]m)', text)\n",
    "    if time_match:\n",
    "        hour, minute, period = time_match.groups()\n",
    "        hour = int(hour)\n",
    "        if period.lower() == 'pm' and hour != 12:\n",
    "            hour += 12\n",
    "        elif period.lower() == 'am' and hour == 12:\n",
    "            hour = 0\n",
    "        time = f\"{hour:02}:{minute}\"\n",
    "\n",
    "    # Regular expression to extract the destination (following \"Destino:\")\n",
    "    destination = re.search(r'Destino:\\s*(\\w+)', text)\n",
    "    destination = destination.group(1) if destination else ''\n",
    "    # Print extracted information for verification\n",
    "    return {\n",
    "        'Name': name,\n",
    "        'Amount': amount,\n",
    "       \n",
    "        'Date': date,\n",
    "        'Time': time,\n",
    "        'Destination': destination\n",
    "    }"
   ]
  },
  {
   "cell_type": "code",
   "execution_count": null,
   "id": "91ad715f",
   "metadata": {},
   "outputs": [],
   "source": []
  }
 ],
 "metadata": {
  "kernelspec": {
   "display_name": "Python 3 (ipykernel)",
   "language": "python",
   "name": "python3"
  },
  "language_info": {
   "codemirror_mode": {
    "name": "ipython",
    "version": 3
   },
   "file_extension": ".py",
   "mimetype": "text/x-python",
   "name": "python",
   "nbconvert_exporter": "python",
   "pygments_lexer": "ipython3",
   "version": "3.12.5"
  }
 },
 "nbformat": 4,
 "nbformat_minor": 5
}
