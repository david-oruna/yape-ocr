{
 "cells": [
  {
   "cell_type": "code",
   "execution_count": 10,
   "id": "bdcd44a1-dc27-4a90-b5b9-205e8f500824",
   "metadata": {},
   "outputs": [],
   "source": [
    "from PIL import Image\n",
    "import pytesseract\n",
    "import re\n",
    "pytesseract.tesseract_cmd = r\"C:\\Program Files\\Tesseract-OCR\"\n"
   ]
  },
  {
   "cell_type": "code",
   "execution_count": 11,
   "id": "ec12a89a",
   "metadata": {},
   "outputs": [],
   "source": [
    "\n",
    "# Update the function to process the image and extract text\n",
    "def extract_information(image_path):\n",
    "    with Image.open(image_path) as img:\n",
    "        # Use tesseract to do OCR on the image without specifying the language\n",
    "        text = pytesseract.image_to_string(img)\n",
    "\n",
    "    # Using regular expressions to extract the specific pieces of data\n",
    "    name_search = re.search(r'([A-ZÁÉÍÓÚÑ][a-záéíóúñ]+\\s[A-ZÁÉÍÓÚÑ][a-záéíóúñ]+\\s[A-ZÁÉÍÓÚÑ][a-záéíóúñ]+\\s[A-ZÁÉÍÓÚÑ][a-záéíóúñ]+)', text)\n",
    "    amount_search = re.search(r'(?<=iYapeaste!\\n\\n)\\d+', text)\n",
    "    date_search = re.search(r'(\\d{2} \\w{3}\\. \\d{4})', text)\n",
    "    time_search = re.search(r'(\\d{2}:\\d{2} (?:pm|am))', text)\n",
    "\n",
    "    destino_search = re.search(r'(?<=Destino: )\\w+', text)\n",
    "\n",
    "    # Extracting data using the found patterns\n",
    "    name = name_search.group(0).replace('\\n', ' ') if name_search else None  # Replace newline character with space\n",
    "    amount = amount_search.group(0) if amount_search else None\n",
    "    date = date_search.group(0) if date_search else None\n",
    "    time = time_search.group(0) if time_search else None\n",
    "    destino = destino_search.group(0) if destino_search else None\n",
    "\n",
    "\n",
    "    # Creating the dictionary with the extracted data\n",
    "    output_dict = {\n",
    "        'name': name,\n",
    "        'amount': amount,\n",
    "        'date': date,\n",
    "        'time': time,\n",
    "        'destino': destino,\n",
    "    }\n",
    "\n",
    "    return output_dict\n",
    "# Usage:\n",
    "# info = extract_information('/path/to/image.jpg')\n",
    "# print(info)\n",
    "\n",
    "# Note: The regex patterns are hard-coded for the specific example provided.\n",
    "# It may need to be adapted for different images or more general use.\n"
   ]
  },
  {
   "cell_type": "code",
   "execution_count": 13,
   "id": "9a876110",
   "metadata": {},
   "outputs": [
    {
     "data": {
      "text/plain": [
       "{'name': 'Ruth Sarai Saccaco Cardenas',\n",
       " 'amount': '16',\n",
       " 'date': '03 mar. 2024',\n",
       " 'time': '10:36 pm',\n",
       " 'destino': 'Yape'}"
      ]
     },
     "execution_count": 13,
     "metadata": {},
     "output_type": "execute_result"
    }
   ],
   "source": [
    "extract_information('yape.jpg')"
   ]
  }
 ],
 "metadata": {
  "kernelspec": {
   "display_name": "Python 3 (ipykernel)",
   "language": "python",
   "name": "python3"
  },
  "language_info": {
   "codemirror_mode": {
    "name": "ipython",
    "version": 3
   },
   "file_extension": ".py",
   "mimetype": "text/x-python",
   "name": "python",
   "nbconvert_exporter": "python",
   "pygments_lexer": "ipython3",
   "version": "3.10.4"
  }
 },
 "nbformat": 4,
 "nbformat_minor": 5
}
