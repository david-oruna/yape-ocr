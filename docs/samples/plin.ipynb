{
 "cells": [
  {
   "cell_type": "code",
   "execution_count": 5,
   "id": "bdcd44a1-dc27-4a90-b5b9-205e8f500824",
   "metadata": {},
   "outputs": [],
   "source": [
    "# Import required libraries\n",
    "from PIL import Image\n",
    "import pytesseract\n",
    "import re"
   ]
  },
  {
   "cell_type": "code",
   "execution_count": 15,
   "id": "ec12a89a",
   "metadata": {},
   "outputs": [],
   "source": [
    "def extract_plin(image_path):\n",
    "\n",
    "# Load the image from file\n",
    "    img = Image.open(image_path)\n",
    "\n",
    "    # Use pytesseract to do OCR on the image\n",
    "    text = pytesseract.image_to_string(img)\n",
    "\n",
    "    # Extract the required information using regular expressions\n",
    "    recipient_name = re.search(r'Enviado a:\\s*(.*)', text).group(1)\n",
    "    recipient_phone = re.search(r'923\\s*424\\s*050', text).group(0)  # Adjust regex as needed\n",
    "    amount = re.search(r's/(\\d+.\\d+)', text).group(1)\n",
    "    destination = re.search(r'Destino:\\s*(.*)', text).group(1)\n",
    "    date_time_match = re.search(r'Fecha y hora:\\s*(\\d+\\s*Mar\\s*2024)\\s*(\\d+:\\d+\\s*[APM]+)', text)\n",
    "    date = date_time_match.group(1)\n",
    "    time = date_time_match.group(2)\n",
    "\n",
    "    # Print the extracted information\n",
    "    # Save info in a dict\n",
    "    info = {\n",
    "        'recipient_name': recipient_name,\n",
    "        'recipient_phone': recipient_phone,\n",
    "        'amount': amount,\n",
    "        'destination': destination,\n",
    "        'date': date,\n",
    "        'time': time\n",
    "    }\n",
    "\n",
    "    return info\n",
    "\n"
   ]
  },
  {
   "cell_type": "code",
   "execution_count": 16,
   "id": "9a876110",
   "metadata": {},
   "outputs": [
    {
     "data": {
      "text/plain": [
       "{'recipient_name': 'RUTH SACCACO',\n",
       " 'recipient_phone': '923 424 050',\n",
       " 'amount': '350.00',\n",
       " 'destination': 'Plin',\n",
       " 'date': '04 Mar 2024',\n",
       " 'time': '11:42 AM'}"
      ]
     },
     "execution_count": 16,
     "metadata": {},
     "output_type": "execute_result"
    }
   ],
   "source": [
    "extract_information('plin.jpg')"
   ]
  }
 ],
 "metadata": {
  "kernelspec": {
   "display_name": "Python 3 (ipykernel)",
   "language": "python",
   "name": "python3"
  },
  "language_info": {
   "codemirror_mode": {
    "name": "ipython",
    "version": 3
   },
   "file_extension": ".py",
   "mimetype": "text/x-python",
   "name": "python",
   "nbconvert_exporter": "python",
   "pygments_lexer": "ipython3",
   "version": "3.10.4"
  }
 },
 "nbformat": 4,
 "nbformat_minor": 5
}
