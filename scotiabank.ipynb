{
 "cells": [
  {
   "cell_type": "code",
   "execution_count": 11,
   "metadata": {},
   "outputs": [],
   "source": [
    "from PIL import Image\n",
    "import pytesseract\n",
    "\n",
    "# Load the image from file\n",
    "def extract_info_from_image(image_path):\n",
    "    image = Image.open(image_path)\n",
    "\n",
    "    # Perform OCR using the Spanish language\n",
    "    text = pytesseract.image_to_string(image)\n",
    "\n",
    "    # Define keywords to search in the text\n",
    "    keywords = {\n",
    "        'recipient_name': 'Enviado a:',\n",
    "        'recipient_phone': 'Teléfono:',\n",
    "        'amount': 'Monto:',\n",
    "        'destination': 'Destino:',\n",
    "        'date': 'Fecha:',\n",
    "        'time': 'Hora:'\n",
    "    }\n",
    "\n",
    "    # Initialize a dictionary to hold the extracted data\n",
    "    extracted_data = {}\n",
    "\n",
    "    # Search for the keywords and extract the relevant information\n",
    "    for key, value in keywords.items():\n",
    "        for line in text.split('\\n'):\n",
    "            if value in line:\n",
    "                # Extract the information following the keyword\n",
    "                extracted_data[key] = line.split(value)[-1].strip()\n",
    "                break  # Move to the next keyword once found\n",
    "\n",
    "    # Print the extracted data\n",
    "    for key, value in extracted_data.items():\n",
    "        print(f\"{key}: {value}\")\n"
   ]
  },
  {
   "cell_type": "code",
   "execution_count": 12,
   "metadata": {},
   "outputs": [
    {
     "name": "stdout",
     "output_type": "stream",
     "text": [
      "recipient_name: Ruth Sarai Saccaco\n",
      "amount: S/ 230.00\n",
      "destination: Yape\n"
     ]
    }
   ],
   "source": [
    "extract_info_from_image('3.jpg')  # Replace with the path to your image"
   ]
  }
 ],
 "metadata": {
  "kernelspec": {
   "display_name": "Python 3",
   "language": "python",
   "name": "python3"
  },
  "language_info": {
   "codemirror_mode": {
    "name": "ipython",
    "version": 3
   },
   "file_extension": ".py",
   "mimetype": "text/x-python",
   "name": "python",
   "nbconvert_exporter": "python",
   "pygments_lexer": "ipython3",
   "version": "3.10.4"
  }
 },
 "nbformat": 4,
 "nbformat_minor": 2
}
